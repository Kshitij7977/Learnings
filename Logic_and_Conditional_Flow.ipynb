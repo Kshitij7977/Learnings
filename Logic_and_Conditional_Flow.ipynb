{
  "nbformat": 4,
  "nbformat_minor": 0,
  "metadata": {
    "colab": {
      "provenance": [],
      "authorship_tag": "ABX9TyPuFIZb+rdCBinMgmYoMuGZ",
      "include_colab_link": true
    },
    "kernelspec": {
      "name": "python3",
      "display_name": "Python 3"
    },
    "language_info": {
      "name": "python"
    }
  },
  "cells": [
    {
      "cell_type": "markdown",
      "metadata": {
        "id": "view-in-github",
        "colab_type": "text"
      },
      "source": [
        "<a href=\"https://colab.research.google.com/github/Kshitij7977/Learnings/blob/main/Logic_and_Conditional_Flow.ipynb\" target=\"_parent\"><img src=\"https://colab.research.google.com/assets/colab-badge.svg\" alt=\"Open In Colab\"/></a>"
      ]
    },
    {
      "cell_type": "code",
      "execution_count": 6,
      "metadata": {
        "colab": {
          "base_uri": "https://localhost:8080/"
        },
        "id": "tPl2uQkVL4H7",
        "outputId": "861c21a7-1218-4553-da04-d15b4280c2b0"
      },
      "outputs": [
        {
          "output_type": "stream",
          "name": "stdout",
          "text": [
            "100 and 100 are equal\n"
          ]
        }
      ],
      "source": [
        "num1 = 100\n",
        "num2 = 100\n",
        "\n",
        "if num1 > num2:\n",
        "  print('{} is gerater than {}'.format(num1, num2))\n",
        "elif num2 > num1:\n",
        "  print('{} is smaller than {}'.format(num1, num2))\n",
        "else:\n",
        "  print('{} and {} are equal'.format(num1, num2))"
      ]
    },
    {
      "cell_type": "code",
      "source": [],
      "metadata": {
        "id": "5xYOSgeKSsRe"
      },
      "execution_count": null,
      "outputs": []
    }
  ]
}
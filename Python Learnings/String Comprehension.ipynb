{
 "cells": [
  {
   "cell_type": "code",
   "execution_count": 1,
   "id": "78d7c37d",
   "metadata": {},
   "outputs": [
    {
     "name": "stdout",
     "output_type": "stream",
     "text": [
      "Hello\n"
     ]
    }
   ],
   "source": [
    "print(\"Hello\")"
   ]
  },
  {
   "cell_type": "code",
   "execution_count": 2,
   "id": "8b3e909f",
   "metadata": {},
   "outputs": [],
   "source": [
    "def greeting(name):\n",
    "    return \"Hello {}. Welcome to the community\".format(name)"
   ]
  },
  {
   "cell_type": "code",
   "execution_count": 4,
   "id": "5a526089",
   "metadata": {},
   "outputs": [
    {
     "data": {
      "text/plain": [
       "'Hello Ram. Welcome to the community'"
      ]
     },
     "execution_count": 4,
     "metadata": {},
     "output_type": "execute_result"
    }
   ],
   "source": [
    "greeting(\"Ram\")"
   ]
  },
  {
   "cell_type": "code",
   "execution_count": 5,
   "id": "9c029042",
   "metadata": {},
   "outputs": [],
   "source": [
    "def welcome_message(name, age):\n",
    "    return \"Hello {}, Your age is {}\".format(name, age)"
   ]
  },
  {
   "cell_type": "code",
   "execution_count": 6,
   "id": "9a80c39b",
   "metadata": {},
   "outputs": [
    {
     "data": {
      "text/plain": [
       "'Hello Ram, Your age is 20'"
      ]
     },
     "execution_count": 6,
     "metadata": {},
     "output_type": "execute_result"
    }
   ],
   "source": [
    "welcome_message('Ram', 20)"
   ]
  },
  {
   "cell_type": "code",
   "execution_count": 7,
   "id": "d9b6d249",
   "metadata": {},
   "outputs": [],
   "source": [
    "def welcome_message(name, age):\n",
    "    return \"Hello {name}, Your age is {age}\".format(age=age, name=name)"
   ]
  },
  {
   "cell_type": "code",
   "execution_count": 8,
   "id": "a3e9096f",
   "metadata": {},
   "outputs": [
    {
     "data": {
      "text/plain": [
       "'Hello Ram, Your age is 20'"
      ]
     },
     "execution_count": 8,
     "metadata": {},
     "output_type": "execute_result"
    }
   ],
   "source": [
    "welcome_message('Ram', 20)"
   ]
  },
  {
   "cell_type": "code",
   "execution_count": null,
   "id": "371fe52f",
   "metadata": {},
   "outputs": [],
   "source": []
  }
 ],
 "metadata": {
  "kernelspec": {
   "display_name": "Python 3",
   "language": "python",
   "name": "python3"
  },
  "language_info": {
   "codemirror_mode": {
    "name": "ipython",
    "version": 3
   },
   "file_extension": ".py",
   "mimetype": "text/x-python",
   "name": "python",
   "nbconvert_exporter": "python",
   "pygments_lexer": "ipython3",
   "version": "3.8.8"
  }
 },
 "nbformat": 4,
 "nbformat_minor": 5
}

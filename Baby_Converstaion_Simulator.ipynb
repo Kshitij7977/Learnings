{
  "nbformat": 4,
  "nbformat_minor": 0,
  "metadata": {
    "colab": {
      "provenance": [],
      "authorship_tag": "ABX9TyNOt2ZUtzR92b3FEcl/AKJe",
      "include_colab_link": true
    },
    "kernelspec": {
      "name": "python3",
      "display_name": "Python 3"
    },
    "language_info": {
      "name": "python"
    }
  },
  "cells": [
    {
      "cell_type": "markdown",
      "metadata": {
        "id": "view-in-github",
        "colab_type": "text"
      },
      "source": [
        "<a href=\"https://colab.research.google.com/github/Kshitij7977/Learnings/blob/main/Baby_Converstaion_Simulator.ipynb\" target=\"_parent\"><img src=\"https://colab.research.google.com/assets/colab-badge.svg\" alt=\"Open In Colab\"/></a>"
      ]
    },
    {
      "cell_type": "code",
      "execution_count": 4,
      "metadata": {
        "colab": {
          "base_uri": "https://localhost:8080/"
        },
        "id": "3kVioePVtm6Y",
        "outputId": "69ac21d7-c86a-4892-d6bb-7da1e0895054"
      },
      "outputs": [
        {
          "output_type": "stream",
          "name": "stdout",
          "text": [
            "Why does it rain ?just because\n",
            "Oh, okay\n"
          ]
        }
      ],
      "source": [
        "from random import choice\n",
        "\n",
        "questions = ['Why is sky blue ?', 'Why is moon white ?', 'Why does it rain ?']\n",
        "question = choice(questions)\n",
        "\n",
        "answer = input(question).strip().lower()\n",
        "\n",
        "while answer!='just because':\n",
        "  answer = input('Why ?').strip().lower()\n",
        "print('Oh, okay')"
      ]
    }
  ]
}
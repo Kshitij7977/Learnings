{
  "nbformat": 4,
  "nbformat_minor": 0,
  "metadata": {
    "colab": {
      "provenance": [],
      "authorship_tag": "ABX9TyOUseveM0DPZU2y/pfZ123U",
      "include_colab_link": true
    },
    "kernelspec": {
      "name": "python3",
      "display_name": "Python 3"
    },
    "language_info": {
      "name": "python"
    }
  },
  "cells": [
    {
      "cell_type": "markdown",
      "metadata": {
        "id": "view-in-github",
        "colab_type": "text"
      },
      "source": [
        "<a href=\"https://colab.research.google.com/github/Kshitij7977/Learnings/blob/main/Dictionary.ipynb\" target=\"_parent\"><img src=\"https://colab.research.google.com/assets/colab-badge.svg\" alt=\"Open In Colab\"/></a>"
      ]
    },
    {
      "cell_type": "code",
      "execution_count": 1,
      "metadata": {
        "colab": {
          "base_uri": "https://localhost:8080/"
        },
        "id": "Y4YR_1NdJ1h-",
        "outputId": "648b7561-6284-4945-cf06-f526f1a91fe5"
      },
      "outputs": [
        {
          "output_type": "execute_result",
          "data": {
            "text/plain": [
              "25"
            ]
          },
          "metadata": {},
          "execution_count": 1
        }
      ],
      "source": [
        "students = {'Alice':25, 'Bob':21, 'Claire':18, 'Dan':19, 'Emma':21}\n",
        "students['Alice']"
      ]
    },
    {
      "cell_type": "code",
      "source": [
        "students.keys()"
      ],
      "metadata": {
        "colab": {
          "base_uri": "https://localhost:8080/"
        },
        "id": "0dw0xq6WWzaK",
        "outputId": "4574b91a-2320-49d2-8971-266fad2989f9"
      },
      "execution_count": 2,
      "outputs": [
        {
          "output_type": "execute_result",
          "data": {
            "text/plain": [
              "dict_keys(['Alice', 'Bob', 'Claire', 'Dan', 'Emma'])"
            ]
          },
          "metadata": {},
          "execution_count": 2
        }
      ]
    },
    {
      "cell_type": "code",
      "source": [
        "students.values()"
      ],
      "metadata": {
        "colab": {
          "base_uri": "https://localhost:8080/"
        },
        "id": "bpfNAaM5W2no",
        "outputId": "01e438b4-b300-420a-a7c7-3cf179150ea3"
      },
      "execution_count": 3,
      "outputs": [
        {
          "output_type": "execute_result",
          "data": {
            "text/plain": [
              "dict_values([25, 21, 18, 19, 21])"
            ]
          },
          "metadata": {},
          "execution_count": 3
        }
      ]
    },
    {
      "cell_type": "code",
      "source": [
        "students = {\n",
        "    'Alice':['ID001',26,'A'],\n",
        "    'Bob':['ID002',21,'C'],\n",
        "    'Claire':['ID003',19,'B'],\n",
        "    'Dan':['ID004',20,'A']\n",
        "}"
      ],
      "metadata": {
        "id": "DBEYOdP70k0Q"
      },
      "execution_count": 1,
      "outputs": []
    },
    {
      "cell_type": "code",
      "source": [
        "students['Alice']"
      ],
      "metadata": {
        "colab": {
          "base_uri": "https://localhost:8080/"
        },
        "id": "WB7HgbCH055J",
        "outputId": "ae913651-f0c5-4005-d77d-bfa6701dad63"
      },
      "execution_count": 2,
      "outputs": [
        {
          "output_type": "execute_result",
          "data": {
            "text/plain": [
              "['ID001', 26, 'A']"
            ]
          },
          "metadata": {},
          "execution_count": 2
        }
      ]
    },
    {
      "cell_type": "code",
      "source": [
        "students['Alice'][0]"
      ],
      "metadata": {
        "colab": {
          "base_uri": "https://localhost:8080/",
          "height": 35
        },
        "id": "lDYWSg2R09Lb",
        "outputId": "b6f611fb-89d3-471e-f600-0ce5dae53e1c"
      },
      "execution_count": 3,
      "outputs": [
        {
          "output_type": "execute_result",
          "data": {
            "text/plain": [
              "'ID001'"
            ],
            "application/vnd.google.colaboratory.intrinsic+json": {
              "type": "string"
            }
          },
          "metadata": {},
          "execution_count": 3
        }
      ]
    },
    {
      "cell_type": "code",
      "source": [
        "students = {\n",
        "    'Alice':{'ID':'ID001','Age':26,'Grade':'A'},\n",
        "    'Bob':{'ID':'ID002','Age':20,'Grade':'C'},\n",
        "    'Claire':{'ID':'ID003','Age':19,'Grade':'A'},\n",
        "    'Dan':{'ID':'ID004','Age':23,'Grade':'B'}\n",
        "}"
      ],
      "metadata": {
        "id": "9DX2dOIX1Hsa"
      },
      "execution_count": 4,
      "outputs": []
    },
    {
      "cell_type": "code",
      "source": [
        "students['Alice']['ID']"
      ],
      "metadata": {
        "colab": {
          "base_uri": "https://localhost:8080/",
          "height": 35
        },
        "id": "DJ3w66161Yih",
        "outputId": "01099222-ed41-4cf0-9f71-a52b65a92d24"
      },
      "execution_count": 5,
      "outputs": [
        {
          "output_type": "execute_result",
          "data": {
            "text/plain": [
              "'ID001'"
            ],
            "application/vnd.google.colaboratory.intrinsic+json": {
              "type": "string"
            }
          },
          "metadata": {},
          "execution_count": 5
        }
      ]
    },
    {
      "cell_type": "markdown",
      "source": [
        "# Cinema Simulator"
      ],
      "metadata": {
        "id": "x1aSQBa21nQS"
      }
    },
    {
      "cell_type": "code",
      "source": [
        "films={\n",
        "    'Finding Nemo':[3,5],\n",
        "    'Dora':[3,20],\n",
        "    'Tarzan':[15,1],\n",
        "    'Ghost Busters':[12,5],\n",
        "    'Home Alone':[18,0]\n",
        "}"
      ],
      "metadata": {
        "id": "xbt1H-ZQ1pdM"
      },
      "execution_count": 23,
      "outputs": []
    },
    {
      "cell_type": "code",
      "source": [
        "print('Ongoing Movies : ',list(films.keys()))"
      ],
      "metadata": {
        "colab": {
          "base_uri": "https://localhost:8080/"
        },
        "id": "Sg1mh4OE5Og0",
        "outputId": "873d6dcd-53aa-440f-e36d-b9eed875bfbd"
      },
      "execution_count": 8,
      "outputs": [
        {
          "output_type": "stream",
          "name": "stdout",
          "text": [
            "Ongoing Movies :  ['Finding Nemo', 'Dora', 'Tarzan', 'Ghost Busters', 'Home Alone']\n"
          ]
        }
      ]
    },
    {
      "cell_type": "code",
      "source": [
        "while True:\n",
        "  print('Ongoing Movies : ',films.keys())\n",
        "  choice = input('What film do you want to watch ? : ').strip().title()\n",
        "\n",
        "  if choice in films:\n",
        "    age = int(input('How old are you ? :').strip())\n",
        "    if age >= films[choice][0]:\n",
        "      if films[choice][1] > 0:\n",
        "        print('Enjoy the film !')\n",
        "        films[choice][1] -= 1\n",
        "        print(films)\n",
        "      else:\n",
        "        print('We are sold out :(')\n",
        "    else:\n",
        "      print('You are too young to watch the film !')\n",
        "  else:\n",
        "    print(\"We don't have that film.\")"
      ],
      "metadata": {
        "colab": {
          "base_uri": "https://localhost:8080/"
        },
        "id": "1xOyvGOv478Z",
        "outputId": "546ab9a3-5459-4e5b-fa41-41b1c40bf524"
      },
      "execution_count": null,
      "outputs": [
        {
          "output_type": "stream",
          "name": "stdout",
          "text": [
            "Ongoing Movies :  dict_keys(['Finding Nemo', 'Dora', 'Tarzan', 'Ghost Busters', 'Home Alone'])\n",
            "What film do you want to watch ? : Tarzan\n",
            "How old are you ? :10\n",
            "You are too young to watch the film !\n",
            "Ongoing Movies :  dict_keys(['Finding Nemo', 'Dora', 'Tarzan', 'Ghost Busters', 'Home Alone'])\n",
            "What film do you want to watch ? : Tarzan\n",
            "How old are you ? :20\n",
            "Enjoy the film !\n",
            "{'Finding Nemo': [3, 5], 'Dora': [3, 20], 'Tarzan': [15, 0], 'Ghost Busters': [12, 5], 'Home Alone': [18, 0]}\n",
            "Ongoing Movies :  dict_keys(['Finding Nemo', 'Dora', 'Tarzan', 'Ghost Busters', 'Home Alone'])\n",
            "What film do you want to watch ? : Tarzan\n",
            "How old are you ? :20\n",
            "We are sold out :(\n",
            "Ongoing Movies :  dict_keys(['Finding Nemo', 'Dora', 'Tarzan', 'Ghost Busters', 'Home Alone'])\n"
          ]
        }
      ]
    }
  ]
}
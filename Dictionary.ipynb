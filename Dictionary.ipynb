{
  "nbformat": 4,
  "nbformat_minor": 0,
  "metadata": {
    "colab": {
      "provenance": [],
      "authorship_tag": "ABX9TyOJvVhxnvZsBvlJR/j2Lj/j",
      "include_colab_link": true
    },
    "kernelspec": {
      "name": "python3",
      "display_name": "Python 3"
    },
    "language_info": {
      "name": "python"
    }
  },
  "cells": [
    {
      "cell_type": "markdown",
      "metadata": {
        "id": "view-in-github",
        "colab_type": "text"
      },
      "source": [
        "<a href=\"https://colab.research.google.com/github/Kshitij7977/Learnings/blob/main/Dictionary.ipynb\" target=\"_parent\"><img src=\"https://colab.research.google.com/assets/colab-badge.svg\" alt=\"Open In Colab\"/></a>"
      ]
    },
    {
      "cell_type": "code",
      "execution_count": 1,
      "metadata": {
        "colab": {
          "base_uri": "https://localhost:8080/"
        },
        "id": "Y4YR_1NdJ1h-",
        "outputId": "648b7561-6284-4945-cf06-f526f1a91fe5"
      },
      "outputs": [
        {
          "output_type": "execute_result",
          "data": {
            "text/plain": [
              "25"
            ]
          },
          "metadata": {},
          "execution_count": 1
        }
      ],
      "source": [
        "students = {'Alice':25, 'Bob':21, 'Claire':18, 'Dan':19, 'Emma':21}\n",
        "students['Alice']"
      ]
    },
    {
      "cell_type": "code",
      "source": [
        "students.keys()"
      ],
      "metadata": {
        "colab": {
          "base_uri": "https://localhost:8080/"
        },
        "id": "0dw0xq6WWzaK",
        "outputId": "4574b91a-2320-49d2-8971-266fad2989f9"
      },
      "execution_count": 2,
      "outputs": [
        {
          "output_type": "execute_result",
          "data": {
            "text/plain": [
              "dict_keys(['Alice', 'Bob', 'Claire', 'Dan', 'Emma'])"
            ]
          },
          "metadata": {},
          "execution_count": 2
        }
      ]
    },
    {
      "cell_type": "code",
      "source": [
        "students.values()"
      ],
      "metadata": {
        "colab": {
          "base_uri": "https://localhost:8080/"
        },
        "id": "bpfNAaM5W2no",
        "outputId": "01e438b4-b300-420a-a7c7-3cf179150ea3"
      },
      "execution_count": 3,
      "outputs": [
        {
          "output_type": "execute_result",
          "data": {
            "text/plain": [
              "dict_values([25, 21, 18, 19, 21])"
            ]
          },
          "metadata": {},
          "execution_count": 3
        }
      ]
    },
    {
      "cell_type": "code",
      "source": [
        "students = {\n",
        "    'Alice':['ID001',26,'A'],\n",
        "    'Bob':['ID002',21,'C'],\n",
        "    'Claire':['ID003',19,'B'],\n",
        "    'Dan':['ID004',20,'A']\n",
        "}"
      ],
      "metadata": {
        "id": "DBEYOdP70k0Q"
      },
      "execution_count": 1,
      "outputs": []
    },
    {
      "cell_type": "code",
      "source": [
        "students['Alice']"
      ],
      "metadata": {
        "colab": {
          "base_uri": "https://localhost:8080/"
        },
        "id": "WB7HgbCH055J",
        "outputId": "ae913651-f0c5-4005-d77d-bfa6701dad63"
      },
      "execution_count": 2,
      "outputs": [
        {
          "output_type": "execute_result",
          "data": {
            "text/plain": [
              "['ID001', 26, 'A']"
            ]
          },
          "metadata": {},
          "execution_count": 2
        }
      ]
    },
    {
      "cell_type": "code",
      "source": [
        "students['Alice'][0]"
      ],
      "metadata": {
        "colab": {
          "base_uri": "https://localhost:8080/",
          "height": 35
        },
        "id": "lDYWSg2R09Lb",
        "outputId": "b6f611fb-89d3-471e-f600-0ce5dae53e1c"
      },
      "execution_count": 3,
      "outputs": [
        {
          "output_type": "execute_result",
          "data": {
            "text/plain": [
              "'ID001'"
            ],
            "application/vnd.google.colaboratory.intrinsic+json": {
              "type": "string"
            }
          },
          "metadata": {},
          "execution_count": 3
        }
      ]
    },
    {
      "cell_type": "code",
      "source": [
        "students = {\n",
        "    'Alice':{'ID':'ID001','Age':26,'Grade':'A'},\n",
        "    'Bob':{'ID':'ID002','Age':20,'Grade':'C'},\n",
        "    'Claire':{'ID':'ID003','Age':19,'Grade':'A'},\n",
        "    'Dan':{'ID':'ID004','Age':23,'Grade':'B'}\n",
        "}"
      ],
      "metadata": {
        "id": "9DX2dOIX1Hsa"
      },
      "execution_count": 4,
      "outputs": []
    },
    {
      "cell_type": "code",
      "source": [
        "students['Alice']['ID']"
      ],
      "metadata": {
        "colab": {
          "base_uri": "https://localhost:8080/",
          "height": 35
        },
        "id": "DJ3w66161Yih",
        "outputId": "01099222-ed41-4cf0-9f71-a52b65a92d24"
      },
      "execution_count": 5,
      "outputs": [
        {
          "output_type": "execute_result",
          "data": {
            "text/plain": [
              "'ID001'"
            ],
            "application/vnd.google.colaboratory.intrinsic+json": {
              "type": "string"
            }
          },
          "metadata": {},
          "execution_count": 5
        }
      ]
    },
    {
      "cell_type": "markdown",
      "source": [
        "# Cinema Simulator"
      ],
      "metadata": {
        "id": "x1aSQBa21nQS"
      }
    },
    {
      "cell_type": "code",
      "source": [
        "films={\n",
        "    'Finding Nemo':[3,5],\n",
        "    'Dora':[3,20],\n",
        "    'Tarzan':[15,5],\n",
        "    'Ghost Busters':[12,5],\n",
        "    'Home Alone':[18,0]\n",
        "}"
      ],
      "metadata": {
        "id": "xbt1H-ZQ1pdM"
      },
      "execution_count": 17,
      "outputs": []
    },
    {
      "cell_type": "code",
      "source": [
        "print('Ongoing Movies : ',list(films.keys()))"
      ],
      "metadata": {
        "colab": {
          "base_uri": "https://localhost:8080/"
        },
        "id": "Sg1mh4OE5Og0",
        "outputId": "873d6dcd-53aa-440f-e36d-b9eed875bfbd"
      },
      "execution_count": 8,
      "outputs": [
        {
          "output_type": "stream",
          "name": "stdout",
          "text": [
            "Ongoing Movies :  ['Finding Nemo', 'Dora', 'Tarzan', 'Ghost Busters', 'Home Alone']\n"
          ]
        }
      ]
    },
    {
      "cell_type": "code",
      "source": [
        "while True:\n",
        "  print('Ongoing Movies : ',films.keys())\n",
        "  choice = input('What film do you want to watch ? : ').strip().title()\n",
        "\n",
        "  if choice in films:\n",
        "    age = int(input('How old are you ? :').strip())\n",
        "    if age >= films[choice][0]:\n",
        "      if films[choice][1] > 0:\n",
        "        print('Enjoy the film !')\n",
        "        films[choice][1] -= 12\n",
        "        print(films)\n",
        "      else:\n",
        "        print('We are sold out :(')\n",
        "    else:\n",
        "      print('You are too young to watch the film !')\n",
        "  else:\n",
        "    print(\"We don't have that film.\")"
      ],
      "metadata": {
        "colab": {
          "base_uri": "https://localhost:8080/",
          "height": 971
        },
        "id": "1xOyvGOv478Z",
        "outputId": "582a0141-60b0-4316-bae1-bcd231b6d62f"
      },
      "execution_count": 18,
      "outputs": [
        {
          "output_type": "stream",
          "name": "stdout",
          "text": [
            "Ongoing Movies :  dict_keys(['Finding Nemo', 'Dora', 'Tarzan', 'Ghost Busters', 'Home Alone'])\n",
            "What film do you want to watch ? : Tarzan\n",
            "How old are you ? :20\n",
            "Enjoy the film !\n",
            "{'Finding Nemo': [3, 5], 'Dora': [3, 20], 'Tarzan': [15, 4], 'Ghost Busters': [12, 5], 'Home Alone': [18, 0]}\n",
            "Ongoing Movies :  dict_keys(['Finding Nemo', 'Dora', 'Tarzan', 'Ghost Busters', 'Home Alone'])\n",
            "What film do you want to watch ? : Tarzan\n",
            "How old are you ? :20\n",
            "Enjoy the film !\n",
            "{'Finding Nemo': [3, 5], 'Dora': [3, 20], 'Tarzan': [15, 3], 'Ghost Busters': [12, 5], 'Home Alone': [18, 0]}\n",
            "Ongoing Movies :  dict_keys(['Finding Nemo', 'Dora', 'Tarzan', 'Ghost Busters', 'Home Alone'])\n",
            "What film do you want to watch ? : Tarzan\n",
            "How old are you ? :0\n",
            "You are too young to watch the film !\n",
            "Ongoing Movies :  dict_keys(['Finding Nemo', 'Dora', 'Tarzan', 'Ghost Busters', 'Home Alone'])\n",
            "What film do you want to watch ? : Tarzan\n",
            "How old are you ? :20\n",
            "Enjoy the film !\n",
            "{'Finding Nemo': [3, 5], 'Dora': [3, 20], 'Tarzan': [15, 2], 'Ghost Busters': [12, 5], 'Home Alone': [18, 0]}\n",
            "Ongoing Movies :  dict_keys(['Finding Nemo', 'Dora', 'Tarzan', 'Ghost Busters', 'Home Alone'])\n",
            "What film do you want to watch ? : Tarzan\n",
            "How old are you ? :20\n",
            "Enjoy the film !\n",
            "{'Finding Nemo': [3, 5], 'Dora': [3, 20], 'Tarzan': [15, 1], 'Ghost Busters': [12, 5], 'Home Alone': [18, 0]}\n",
            "Ongoing Movies :  dict_keys(['Finding Nemo', 'Dora', 'Tarzan', 'Ghost Busters', 'Home Alone'])\n",
            "What film do you want to watch ? : Tarzan\n",
            "How old are you ? :20\n",
            "Enjoy the film !\n",
            "{'Finding Nemo': [3, 5], 'Dora': [3, 20], 'Tarzan': [15, 0], 'Ghost Busters': [12, 5], 'Home Alone': [18, 0]}\n",
            "Ongoing Movies :  dict_keys(['Finding Nemo', 'Dora', 'Tarzan', 'Ghost Busters', 'Home Alone'])\n",
            "What film do you want to watch ? : Tarzan\n",
            "How old are you ? :20\n",
            "We are sold out :(\n",
            "Ongoing Movies :  dict_keys(['Finding Nemo', 'Dora', 'Tarzan', 'Ghost Busters', 'Home Alone'])\n"
          ]
        },
        {
          "output_type": "error",
          "ename": "KeyboardInterrupt",
          "evalue": "ignored",
          "traceback": [
            "\u001b[0;31m---------------------------------------------------------------------------\u001b[0m",
            "\u001b[0;31mKeyboardInterrupt\u001b[0m                         Traceback (most recent call last)",
            "\u001b[0;32m<ipython-input-18-4bdf3ebb1ac0>\u001b[0m in \u001b[0;36m<module>\u001b[0;34m\u001b[0m\n\u001b[1;32m      1\u001b[0m \u001b[0;32mwhile\u001b[0m \u001b[0;32mTrue\u001b[0m\u001b[0;34m:\u001b[0m\u001b[0;34m\u001b[0m\u001b[0;34m\u001b[0m\u001b[0m\n\u001b[1;32m      2\u001b[0m   \u001b[0mprint\u001b[0m\u001b[0;34m(\u001b[0m\u001b[0;34m'Ongoing Movies : '\u001b[0m\u001b[0;34m,\u001b[0m\u001b[0mfilms\u001b[0m\u001b[0;34m.\u001b[0m\u001b[0mkeys\u001b[0m\u001b[0;34m(\u001b[0m\u001b[0;34m)\u001b[0m\u001b[0;34m)\u001b[0m\u001b[0;34m\u001b[0m\u001b[0;34m\u001b[0m\u001b[0m\n\u001b[0;32m----> 3\u001b[0;31m   \u001b[0mchoice\u001b[0m \u001b[0;34m=\u001b[0m \u001b[0minput\u001b[0m\u001b[0;34m(\u001b[0m\u001b[0;34m'What film do you want to watch ? : '\u001b[0m\u001b[0;34m)\u001b[0m\u001b[0;34m.\u001b[0m\u001b[0mstrip\u001b[0m\u001b[0;34m(\u001b[0m\u001b[0;34m)\u001b[0m\u001b[0;34m.\u001b[0m\u001b[0mtitle\u001b[0m\u001b[0;34m(\u001b[0m\u001b[0;34m)\u001b[0m\u001b[0;34m\u001b[0m\u001b[0;34m\u001b[0m\u001b[0m\n\u001b[0m\u001b[1;32m      4\u001b[0m \u001b[0;34m\u001b[0m\u001b[0m\n\u001b[1;32m      5\u001b[0m   \u001b[0;32mif\u001b[0m \u001b[0mchoice\u001b[0m \u001b[0;32min\u001b[0m \u001b[0mfilms\u001b[0m\u001b[0;34m:\u001b[0m\u001b[0;34m\u001b[0m\u001b[0;34m\u001b[0m\u001b[0m\n",
            "\u001b[0;32m/usr/local/lib/python3.8/dist-packages/ipykernel/kernelbase.py\u001b[0m in \u001b[0;36mraw_input\u001b[0;34m(self, prompt)\u001b[0m\n\u001b[1;32m    858\u001b[0m                 \u001b[0;34m\"raw_input was called, but this frontend does not support input requests.\"\u001b[0m\u001b[0;34m\u001b[0m\u001b[0;34m\u001b[0m\u001b[0m\n\u001b[1;32m    859\u001b[0m             )\n\u001b[0;32m--> 860\u001b[0;31m         return self._input_request(str(prompt),\n\u001b[0m\u001b[1;32m    861\u001b[0m             \u001b[0mself\u001b[0m\u001b[0;34m.\u001b[0m\u001b[0m_parent_ident\u001b[0m\u001b[0;34m,\u001b[0m\u001b[0;34m\u001b[0m\u001b[0;34m\u001b[0m\u001b[0m\n\u001b[1;32m    862\u001b[0m             \u001b[0mself\u001b[0m\u001b[0;34m.\u001b[0m\u001b[0m_parent_header\u001b[0m\u001b[0;34m,\u001b[0m\u001b[0;34m\u001b[0m\u001b[0;34m\u001b[0m\u001b[0m\n",
            "\u001b[0;32m/usr/local/lib/python3.8/dist-packages/ipykernel/kernelbase.py\u001b[0m in \u001b[0;36m_input_request\u001b[0;34m(self, prompt, ident, parent, password)\u001b[0m\n\u001b[1;32m    902\u001b[0m             \u001b[0;32mexcept\u001b[0m \u001b[0mKeyboardInterrupt\u001b[0m\u001b[0;34m:\u001b[0m\u001b[0;34m\u001b[0m\u001b[0;34m\u001b[0m\u001b[0m\n\u001b[1;32m    903\u001b[0m                 \u001b[0;31m# re-raise KeyboardInterrupt, to truncate traceback\u001b[0m\u001b[0;34m\u001b[0m\u001b[0;34m\u001b[0m\u001b[0;34m\u001b[0m\u001b[0m\n\u001b[0;32m--> 904\u001b[0;31m                 \u001b[0;32mraise\u001b[0m \u001b[0mKeyboardInterrupt\u001b[0m\u001b[0;34m(\u001b[0m\u001b[0;34m\"Interrupted by user\"\u001b[0m\u001b[0;34m)\u001b[0m \u001b[0;32mfrom\u001b[0m \u001b[0;32mNone\u001b[0m\u001b[0;34m\u001b[0m\u001b[0;34m\u001b[0m\u001b[0m\n\u001b[0m\u001b[1;32m    905\u001b[0m             \u001b[0;32mexcept\u001b[0m \u001b[0mException\u001b[0m \u001b[0;32mas\u001b[0m \u001b[0me\u001b[0m\u001b[0;34m:\u001b[0m\u001b[0;34m\u001b[0m\u001b[0;34m\u001b[0m\u001b[0m\n\u001b[1;32m    906\u001b[0m                 \u001b[0mself\u001b[0m\u001b[0;34m.\u001b[0m\u001b[0mlog\u001b[0m\u001b[0;34m.\u001b[0m\u001b[0mwarning\u001b[0m\u001b[0;34m(\u001b[0m\u001b[0;34m\"Invalid Message:\"\u001b[0m\u001b[0;34m,\u001b[0m \u001b[0mexc_info\u001b[0m\u001b[0;34m=\u001b[0m\u001b[0;32mTrue\u001b[0m\u001b[0;34m)\u001b[0m\u001b[0;34m\u001b[0m\u001b[0;34m\u001b[0m\u001b[0m\n",
            "\u001b[0;31mKeyboardInterrupt\u001b[0m: Interrupted by user"
          ]
        }
      ]
    }
  ]
}
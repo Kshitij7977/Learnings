{
  "nbformat": 4,
  "nbformat_minor": 0,
  "metadata": {
    "colab": {
      "provenance": [],
      "authorship_tag": "ABX9TyPe8Pq6i+O1315uZNz81UNT",
      "include_colab_link": true
    },
    "kernelspec": {
      "name": "python3",
      "display_name": "Python 3"
    },
    "language_info": {
      "name": "python"
    }
  },
  "cells": [
    {
      "cell_type": "markdown",
      "metadata": {
        "id": "view-in-github",
        "colab_type": "text"
      },
      "source": [
        "<a href=\"https://colab.research.google.com/github/Kshitij7977/Learnings/blob/main/Keyword_Arguements.ipynb\" target=\"_parent\"><img src=\"https://colab.research.google.com/assets/colab-badge.svg\" alt=\"Open In Colab\"/></a>"
      ]
    },
    {
      "cell_type": "code",
      "execution_count": 1,
      "metadata": {
        "id": "chQFN83QtKfj"
      },
      "outputs": [],
      "source": [
        "def about(name, age, likes):\n",
        "  sentence = 'Hi {}! They are {} years old and they like {}.'.format(name, age, likes)\n",
        "  return sentence"
      ]
    },
    {
      "cell_type": "code",
      "source": [
        "about('Jack', 23, 'Reading')"
      ],
      "metadata": {
        "colab": {
          "base_uri": "https://localhost:8080/",
          "height": 35
        },
        "id": "7Dj3JDxjt9WT",
        "outputId": "8bd6f097-cb8b-43c6-827f-ef361b1d52b8"
      },
      "execution_count": 2,
      "outputs": [
        {
          "output_type": "execute_result",
          "data": {
            "text/plain": [
              "'Hi Jack! They are 23 years old and they like Reading.'"
            ],
            "application/vnd.google.colaboratory.intrinsic+json": {
              "type": "string"
            }
          },
          "metadata": {},
          "execution_count": 2
        }
      ]
    },
    {
      "cell_type": "code",
      "source": [
        "dictionary = {'name':'Ziyad', 'age':25, 'likes':'Playing'}\n",
        "about(**dictionary)"
      ],
      "metadata": {
        "colab": {
          "base_uri": "https://localhost:8080/",
          "height": 35
        },
        "id": "Iyq3m5g8t_Os",
        "outputId": "c37fa0ac-f10f-4c23-8246-f09416e7e1f4"
      },
      "execution_count": 3,
      "outputs": [
        {
          "output_type": "execute_result",
          "data": {
            "text/plain": [
              "'Hi Ziyad! They are 25 years old and they like Playing.'"
            ],
            "application/vnd.google.colaboratory.intrinsic+json": {
              "type": "string"
            }
          },
          "metadata": {},
          "execution_count": 3
        }
      ]
    },
    {
      "cell_type": "code",
      "source": [
        "about(name = 'Ashley', likes = 'Movies', age = 20)"
      ],
      "metadata": {
        "colab": {
          "base_uri": "https://localhost:8080/",
          "height": 35
        },
        "id": "hi_L1tW4uLNA",
        "outputId": "536796ec-17e5-4998-d0b7-1fcfaedeac98"
      },
      "execution_count": 4,
      "outputs": [
        {
          "output_type": "execute_result",
          "data": {
            "text/plain": [
              "'Hi Ashley! They are 20 years old and they like Movies.'"
            ],
            "application/vnd.google.colaboratory.intrinsic+json": {
              "type": "string"
            }
          },
          "metadata": {},
          "execution_count": 4
        }
      ]
    },
    {
      "cell_type": "code",
      "source": [],
      "metadata": {
        "id": "vC0rmuwyuWMx"
      },
      "execution_count": null,
      "outputs": []
    }
  ]
}
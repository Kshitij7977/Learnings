{
  "nbformat": 4,
  "nbformat_minor": 0,
  "metadata": {
    "colab": {
      "provenance": [],
      "authorship_tag": "ABX9TyMuk/Nq/Z86pG6CWmNQ5XG5",
      "include_colab_link": true
    },
    "kernelspec": {
      "name": "python3",
      "display_name": "Python 3"
    },
    "language_info": {
      "name": "python"
    }
  },
  "cells": [
    {
      "cell_type": "markdown",
      "metadata": {
        "id": "view-in-github",
        "colab_type": "text"
      },
      "source": [
        "<a href=\"https://colab.research.google.com/github/Kshitij7977/Learnings/blob/main/Roman_Numbers.ipynb\" target=\"_parent\"><img src=\"https://colab.research.google.com/assets/colab-badge.svg\" alt=\"Open In Colab\"/></a>"
      ]
    },
    {
      "cell_type": "code",
      "execution_count": null,
      "metadata": {
        "id": "9veLBGI8jx4X"
      },
      "outputs": [],
      "source": [
        "def romanToInt(self, s: str) -> int:\n",
        "  dict1 = {'I':1,'V':5,'X':10,'L':50,'C':100,'D':500,'M':1000}\n",
        "  list1 = []\n",
        "\n",
        "  for i in s:\n",
        "    list1.append(dict1[i])\n",
        "  print(list1)\n",
        "\n",
        "  sum = 0\n",
        "  i = 0\n",
        "  while(i<len(list1)):\n",
        "    if(i + 1 < len(list1)):\n",
        "      if list1[i] >= list1[i+1]:\n",
        "        sum = sum + list1[i]\n",
        "        i = i+1\n",
        "      else:\n",
        "        sum = sum + list1[i+1] - list1[i]\n",
        "        i = i+2\n",
        "    else:\n",
        "      sum = sum + list1[i]\n",
        "      i = i+1\n",
        "  return sum"
      ]
    }
  ]
}
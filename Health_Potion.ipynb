{
  "nbformat": 4,
  "nbformat_minor": 0,
  "metadata": {
    "colab": {
      "provenance": [],
      "authorship_tag": "ABX9TyMAc8W2AUsv836f3ef9mp5d",
      "include_colab_link": true
    },
    "kernelspec": {
      "name": "python3",
      "display_name": "Python 3"
    },
    "language_info": {
      "name": "python"
    }
  },
  "cells": [
    {
      "cell_type": "markdown",
      "metadata": {
        "id": "view-in-github",
        "colab_type": "text"
      },
      "source": [
        "<a href=\"https://colab.research.google.com/github/Kshitij7977/Learnings/blob/main/Health_Potion.ipynb\" target=\"_parent\"><img src=\"https://colab.research.google.com/assets/colab-badge.svg\" alt=\"Open In Colab\"/></a>"
      ]
    },
    {
      "cell_type": "code",
      "execution_count": 1,
      "metadata": {
        "id": "9FQFPrH0tqnq"
      },
      "outputs": [],
      "source": [
        "import random"
      ]
    },
    {
      "cell_type": "code",
      "source": [
        "health = 50\n",
        "print('Initial Health is :', health)\n",
        "potion_health = random.randint(25,50)"
      ],
      "metadata": {
        "colab": {
          "base_uri": "https://localhost:8080/"
        },
        "id": "idJwEWmPuUXx",
        "outputId": "036cab20-49db-4e80-dc3b-dc35c872d926"
      },
      "execution_count": 23,
      "outputs": [
        {
          "output_type": "stream",
          "name": "stdout",
          "text": [
            "Initial Health is : 50\n"
          ]
        }
      ]
    },
    {
      "cell_type": "code",
      "source": [
        "difficulty = 2\n",
        "new_health = health + int(potion_health/difficulty)\n",
        "\n",
        "print('Potion Health is :', potion_health)\n",
        "print('New Health after taking potion :',new_health)"
      ],
      "metadata": {
        "colab": {
          "base_uri": "https://localhost:8080/"
        },
        "id": "KezYYZ6TuvIR",
        "outputId": "eb51bfc3-3480-4c2d-ed5c-dd3db7b3f168"
      },
      "execution_count": 24,
      "outputs": [
        {
          "output_type": "stream",
          "name": "stdout",
          "text": [
            "Potion Health is : 39\n",
            "New Health after taking potion : 69\n"
          ]
        }
      ]
    },
    {
      "cell_type": "code",
      "source": [],
      "metadata": {
        "id": "Xia8295xvaDf"
      },
      "execution_count": null,
      "outputs": []
    }
  ]
}
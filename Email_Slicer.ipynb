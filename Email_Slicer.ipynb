{
  "nbformat": 4,
  "nbformat_minor": 0,
  "metadata": {
    "colab": {
      "provenance": [],
      "authorship_tag": "ABX9TyMTybqOJxJwFj19SEt2S6y4",
      "include_colab_link": true
    },
    "kernelspec": {
      "name": "python3",
      "display_name": "Python 3"
    },
    "language_info": {
      "name": "python"
    }
  },
  "cells": [
    {
      "cell_type": "markdown",
      "metadata": {
        "id": "view-in-github",
        "colab_type": "text"
      },
      "source": [
        "<a href=\"https://colab.research.google.com/github/Kshitij7977/Learnings/blob/main/Email_Slicer.ipynb\" target=\"_parent\"><img src=\"https://colab.research.google.com/assets/colab-badge.svg\" alt=\"Open In Colab\"/></a>"
      ]
    },
    {
      "cell_type": "markdown",
      "source": [
        "### Email Slicer"
      ],
      "metadata": {
        "id": "s7SJ1R7QG0vu"
      }
    },
    {
      "cell_type": "code",
      "source": [
        "# get user email address\n",
        "email = input('Enter your email address :')\n",
        "\n",
        "# Get user name\n",
        "user_name = email[:email.index('@')]\n",
        "\n",
        "# Get domain name\n",
        "domain_name = email[email.index('@')+1:]\n",
        "\n",
        "# Format User Name\n",
        "output = 'Your username is {} and your domain name is {}'.format(user_name, domain_name)\n",
        "\n",
        "# Display Output message\n",
        "print(output)"
      ],
      "metadata": {
        "colab": {
          "base_uri": "https://localhost:8080/"
        },
        "id": "BovgPDnlG0M1",
        "outputId": "3d63935b-c46b-4f1c-e96b-bbdeb14f9732"
      },
      "execution_count": 10,
      "outputs": [
        {
          "output_type": "stream",
          "name": "stdout",
          "text": [
            "Enter your email address :janet@jacky.com\n",
            "Your username is janet and your domain name is jacky.com\n"
          ]
        }
      ]
    }
  ]
}
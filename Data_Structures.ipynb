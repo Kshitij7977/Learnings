{
  "nbformat": 4,
  "nbformat_minor": 0,
  "metadata": {
    "colab": {
      "provenance": [],
      "authorship_tag": "ABX9TyPptc+2SBFaWGQ0iu0EMoN2",
      "include_colab_link": true
    },
    "kernelspec": {
      "name": "python3",
      "display_name": "Python 3"
    },
    "language_info": {
      "name": "python"
    }
  },
  "cells": [
    {
      "cell_type": "markdown",
      "metadata": {
        "id": "view-in-github",
        "colab_type": "text"
      },
      "source": [
        "<a href=\"https://colab.research.google.com/github/Kshitij7977/Learnings/blob/main/Data_Structures.ipynb\" target=\"_parent\"><img src=\"https://colab.research.google.com/assets/colab-badge.svg\" alt=\"Open In Colab\"/></a>"
      ]
    },
    {
      "cell_type": "code",
      "execution_count": 15,
      "metadata": {
        "colab": {
          "base_uri": "https://localhost:8080/"
        },
        "id": "b9hjqtjXlp2D",
        "outputId": "c844e20c-f307-4d41-ed2b-c779a9aa158f"
      },
      "outputs": [
        {
          "output_type": "stream",
          "name": "stdout",
          "text": [
            "8\n"
          ]
        }
      ],
      "source": [
        "known_users = ['Alice', 'Bob', 'Claire', 'Dan', 'Emma', 'Fred', 'Georgie', 'Harry']\n",
        "print(len(known_users))"
      ]
    },
    {
      "cell_type": "code",
      "source": [
        "while(True):\n",
        "  print('Hi, my name is Travis')\n",
        "  name = input('What is your name? :').capitalize()\n",
        "  if name in known_users:\n",
        "    print('Hello {}'.format(name))\n",
        "    remove = input('Do you want to be removed from the system (y/n) ? :').lower()\n",
        "    if remove == 'y':\n",
        "      known_users.remove(name)\n",
        "    else:\n",
        "      print(\"No Problem, I didn't want to leave you anyway\")\n",
        "  else:\n",
        "    print(\"Hmmm!, I don't think I know you {}\".format(name))\n",
        "    add_me = input('Do you me to add you in the system (y/n) ? :').lower()\n",
        "    if add_me == 'y':\n",
        "      'print(known_users)'\n",
        "      known_users.append(name)\n",
        "      'print(known_users)'\n",
        "    else:\n",
        "      print(\"No worries, See you around !\")"
      ],
      "metadata": {
        "id": "GRRjv8dHo1ZN"
      },
      "execution_count": null,
      "outputs": []
    }
  ]
}
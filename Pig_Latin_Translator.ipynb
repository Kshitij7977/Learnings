{
  "nbformat": 4,
  "nbformat_minor": 0,
  "metadata": {
    "colab": {
      "provenance": [],
      "authorship_tag": "ABX9TyOHGA0GP4zXbNYhXB6Wy8ct",
      "include_colab_link": true
    },
    "kernelspec": {
      "name": "python3",
      "display_name": "Python 3"
    },
    "language_info": {
      "name": "python"
    }
  },
  "cells": [
    {
      "cell_type": "markdown",
      "metadata": {
        "id": "view-in-github",
        "colab_type": "text"
      },
      "source": [
        "<a href=\"https://colab.research.google.com/github/Kshitij7977/Learnings/blob/main/Pig_Latin_Translator.ipynb\" target=\"_parent\"><img src=\"https://colab.research.google.com/assets/colab-badge.svg\" alt=\"Open In Colab\"/></a>"
      ]
    },
    {
      "cell_type": "code",
      "execution_count": 1,
      "metadata": {
        "colab": {
          "base_uri": "https://localhost:8080/"
        },
        "id": "m4B2R5nK7Ui8",
        "outputId": "2658217c-db45-475a-eee1-72e84c69c175"
      },
      "outputs": [
        {
          "output_type": "stream",
          "name": "stdout",
          "text": [
            "1\n",
            "2\n",
            "3\n",
            "4\n",
            "5\n",
            "6\n",
            "7\n",
            "8\n",
            "9\n",
            "10\n",
            "11\n",
            "12\n",
            "13\n",
            "14\n",
            "15\n",
            "16\n",
            "17\n",
            "18\n",
            "19\n"
          ]
        }
      ],
      "source": [
        "for i in range(1,20):\n",
        "  print(i)"
      ]
    },
    {
      "cell_type": "code",
      "source": [
        "word = input('Enter a word : ')\n",
        "vowels = 0\n",
        "consonants = 0\n",
        "\n",
        "for i in word:\n",
        "  if i in 'aeiou':\n",
        "    vowels = vowels + 1\n",
        "  else:\n",
        "    consonants = consonants + 1\n",
        "\n",
        "print('The word {} has {} vowels'.format(word, vowels))\n",
        "print('The word {} has {} consonants'.format(word, consonants))"
      ],
      "metadata": {
        "colab": {
          "base_uri": "https://localhost:8080/"
        },
        "id": "SDvQ018G8fjO",
        "outputId": "f07e1bb7-cccd-4481-91b6-2bec8efad165"
      },
      "execution_count": 3,
      "outputs": [
        {
          "output_type": "stream",
          "name": "stdout",
          "text": [
            "Enter a word : umbrella\n",
            "The word umbrella has 3 vowels\n",
            "The word umbrella has 5 consonants\n"
          ]
        }
      ]
    },
    {
      "cell_type": "code",
      "source": [
        "students = {\n",
        "    'male':['Tom','Harry','Dick','Jack','Austin'],\n",
        "    'female':['Anna','Betty','Claire','Huda','Anastesia']\n",
        "}\n",
        "\n",
        "# Print the name having 'a' in them\n",
        "for i in students.keys():\n",
        "  for name in students[i]:\n",
        "    if 'a' in name:\n",
        "      print(name)"
      ],
      "metadata": {
        "colab": {
          "base_uri": "https://localhost:8080/"
        },
        "id": "y3CBvB2b9ScM",
        "outputId": "6d1f70e1-e352-4426-c5cb-291d36c6f455"
      },
      "execution_count": 12,
      "outputs": [
        {
          "output_type": "stream",
          "name": "stdout",
          "text": [
            "Harry\n",
            "Jack\n",
            "Anna\n",
            "Claire\n",
            "Huda\n",
            "Anastesia\n"
          ]
        }
      ]
    },
    {
      "cell_type": "markdown",
      "source": [
        "# Pig Latin Translator"
      ],
      "metadata": {
        "id": "j6CgsmpOBmwB"
      }
    },
    {
      "cell_type": "code",
      "source": [
        "sentence = input('Enter a sentence : ').lower()\n",
        "\n",
        "words = sentence.split()\n",
        "#print(words)\n",
        "\n",
        "new_words = []\n",
        "\n",
        "# Loop through words and convert to Pig Latin\n",
        "\n",
        "for word in words:\n",
        "\n",
        "  # If word starts with vowel, add 'yay' in the end\n",
        "  if word[0] in 'aeiou':\n",
        "    new_word = word + 'yay'\n",
        "    new_words.append(new_word)\n",
        "\n",
        "  # If the word starts with consonant, move the alphabets till vowel to the back and add 'ay'\n",
        "  else:\n",
        "    vowel_pos = 0\n",
        "\n",
        "    for i in word:\n",
        "      if i not in 'aeiou':\n",
        "        vowel_pos = vowel_pos + 1\n",
        "      else:\n",
        "        break\n",
        "\n",
        "    cons = word[:vowel_pos]\n",
        "    the_rest = word[vowel_pos:]\n",
        "    new_word = the_rest + cons + 'ay'\n",
        "    new_words.append(new_word)\n",
        "\n",
        "result = \" \".join(new_words)\n",
        "print(result)"
      ],
      "metadata": {
        "colab": {
          "base_uri": "https://localhost:8080/"
        },
        "id": "xFYVQD4dBmVI",
        "outputId": "4b1aff5c-c10d-4744-8c7d-3ab1452bc49d"
      },
      "execution_count": 29,
      "outputs": [
        {
          "output_type": "stream",
          "name": "stdout",
          "text": [
            "Enter a sentence : Hello my name is Jack and it is great to see you\n",
            "ellohay myay amenay isyay ackjay andyay ityay isyay eatgray otay eesay ouyay\n"
          ]
        }
      ]
    }
  ]
}